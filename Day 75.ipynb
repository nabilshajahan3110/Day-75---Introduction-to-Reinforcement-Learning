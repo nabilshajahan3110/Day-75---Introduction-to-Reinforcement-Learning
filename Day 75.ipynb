{
 "cells": [
  {
   "cell_type": "markdown",
   "id": "a18f142e-68c6-4190-adbf-cf47193eee25",
   "metadata": {},
   "source": [
    "## Introduction to Reinforcement Learning"
   ]
  },
  {
   "cell_type": "markdown",
   "id": "acc1b048-9fca-42ef-b663-fb8e7e580551",
   "metadata": {},
   "source": [
    "This assignment will guide you through the basics of reinforcement learning (RL) using Python. By the end of this assignment, you will have implemented a simple RL algorithm and trained an agent to solve the \"CartPole\" environment from OpenAI Gym."
   ]
  },
  {
   "cell_type": "markdown",
   "id": "b2af0fc1-8d00-4811-975c-c821fec47d07",
   "metadata": {},
   "source": [
    "### Objective\n",
    "\n",
    "1. Understand the core concepts of reinforcement learning.\n",
    "2. Use Python libraries like OpenAI Gym and Stable-Baselines3 to train an RL agent.\n",
    "3. Evaluate and visualize the agent's performance."
   ]
  },
  {
   "cell_type": "markdown",
   "id": "a95d627d-54c3-41ef-9a7a-a676a6eaf0e2",
   "metadata": {},
   "source": [
    "#### Task 1: Install Required Libraries"
   ]
  },
  {
   "cell_type": "code",
   "execution_count": null,
   "id": "10e23e5b-990e-4a30-84e4-f940c2f8f594",
   "metadata": {},
   "outputs": [],
   "source": [
    "# pip install gym"
   ]
  },
  {
   "cell_type": "code",
   "execution_count": null,
   "id": "f4bc1681-664d-4094-9a17-b6ea2ad4bf96",
   "metadata": {},
   "outputs": [],
   "source": [
    "# pip install stable-baselines3"
   ]
  },
  {
   "cell_type": "code",
   "execution_count": null,
   "id": "0b73f406-9154-400e-9534-2fd1a6b5c46b",
   "metadata": {},
   "outputs": [],
   "source": [
    "# pip install shimmy>=2.0"
   ]
  },
  {
   "cell_type": "code",
   "execution_count": 63,
   "id": "42b37a24-7783-45a1-a536-46a49743f6f3",
   "metadata": {},
   "outputs": [],
   "source": [
    "import warnings\n",
    "import sys\n",
    "if not sys.warnoptions:\n",
    "    warnings.simplefilter(\"ignore\")"
   ]
  },
  {
   "cell_type": "markdown",
   "id": "1190a03d-7085-4984-bb6e-1356b819265f",
   "metadata": {},
   "source": [
    "#### Task 2: Create and Explore the Environment\n",
    "\n",
    "1. Import the required libraries.\n",
    "2. Create the \"CartPole-v1\" environment from OpenAI Gym.\n",
    "3. Explore the environment by taking random actions and observing the state transitions."
   ]
  },
  {
   "cell_type": "code",
   "execution_count": 65,
   "id": "cb8c6fd0-56b3-43e6-84b3-13d0efbd58fe",
   "metadata": {},
   "outputs": [
    {
     "name": "stdout",
     "output_type": "stream",
     "text": [
      "Initial State: [-0.02809066 -0.03620646 -0.01655271 -0.0097697 ]\n",
      "Action: 1, State: [-0.02881479  0.15914892 -0.01674811 -0.3076289 ], Reward: 1.0, Done: False\n",
      "Action: 0, State: [-0.02563181 -0.03573043 -0.02290069 -0.02027459], Reward: 1.0, Done: False\n",
      "Action: 0, State: [-0.02634642 -0.2305166  -0.02330618  0.26509583], Reward: 1.0, Done: False\n",
      "Action: 0, State: [-0.03095675 -0.42529827 -0.01800426  0.5503376 ], Reward: 1.0, Done: False\n",
      "Action: 0, State: [-0.03946272 -0.6201628  -0.00699751  0.83729404], Reward: 1.0, Done: False\n",
      "Action: 1, State: [-0.05186597 -0.42494598  0.00974837  0.5424187 ], Reward: 1.0, Done: False\n",
      "Action: 1, State: [-0.06036489 -0.22996238  0.02059675  0.2528232 ], Reward: 1.0, Done: False\n",
      "Action: 0, State: [-0.06496414 -0.42537227  0.02565321  0.5519309 ], Reward: 1.0, Done: False\n",
      "Action: 1, State: [-0.07347158 -0.23061982  0.03669183  0.26743957], Reward: 1.0, Done: False\n",
      "Action: 1, State: [-0.07808398 -0.03604021  0.04204062 -0.01344843], Reward: 1.0, Done: False\n"
     ]
    }
   ],
   "source": [
    "import gym\n",
    "\n",
    "def explore_environment():\n",
    "    env = gym.make('CartPole-v1')\n",
    "    \n",
    "    # Gym's reset might return a tuple (state, info) in newer versions\n",
    "    state, _ = env.reset()\n",
    "    print(\"Initial State:\", state)\n",
    "\n",
    "    for _ in range(10):\n",
    "        action = env.action_space.sample()  # Take a random action\n",
    "        # step() might return more than 4 elements in newer versions\n",
    "        step_result = env.step(action)\n",
    "        state, reward, done, _ = step_result[:4]  # Unpack only the first four values\n",
    "        print(f\"Action: {action}, State: {state}, Reward: {reward}, Done: {done}\")\n",
    "\n",
    "        if done:\n",
    "            break\n",
    "    env.close()\n",
    "\n",
    "explore_environment()"
   ]
  },
  {
   "cell_type": "markdown",
   "id": "0a9490f1-2e08-4af0-8456-0f1e71c8b65b",
   "metadata": {},
   "source": [
    "#### Task 3: Train an RL Agent\n",
    "\n",
    "1. Use the Stable-Baselines3 library to train a reinforcement learning agent using the Proximal Policy Optimization (PPO) algorithm.\n",
    "2. Train the agent for 10,000 timesteps."
   ]
  },
  {
   "cell_type": "code",
   "execution_count": 67,
   "id": "69e3b362-fa8c-4a09-aed2-77659069a940",
   "metadata": {},
   "outputs": [
    {
     "name": "stdout",
     "output_type": "stream",
     "text": [
      "Using cpu device\n",
      "Wrapping the env with a `Monitor` wrapper\n",
      "Wrapping the env in a DummyVecEnv.\n",
      "---------------------------------\n",
      "| rollout/           |          |\n",
      "|    ep_len_mean     | 20.8     |\n",
      "|    ep_rew_mean     | 20.8     |\n",
      "| time/              |          |\n",
      "|    fps             | 568      |\n",
      "|    iterations      | 1        |\n",
      "|    time_elapsed    | 3        |\n",
      "|    total_timesteps | 2048     |\n",
      "---------------------------------\n",
      "-----------------------------------------\n",
      "| rollout/                |             |\n",
      "|    ep_len_mean          | 26          |\n",
      "|    ep_rew_mean          | 26          |\n",
      "| time/                   |             |\n",
      "|    fps                  | 363         |\n",
      "|    iterations           | 2           |\n",
      "|    time_elapsed         | 11          |\n",
      "|    total_timesteps      | 4096        |\n",
      "| train/                  |             |\n",
      "|    approx_kl            | 0.009836753 |\n",
      "|    clip_fraction        | 0.0921      |\n",
      "|    clip_range           | 0.2         |\n",
      "|    entropy_loss         | -0.686      |\n",
      "|    explained_variance   | -0.0112     |\n",
      "|    learning_rate        | 0.0003      |\n",
      "|    loss                 | 6.34        |\n",
      "|    n_updates            | 10          |\n",
      "|    policy_gradient_loss | -0.0135     |\n",
      "|    value_loss           | 47.6        |\n",
      "-----------------------------------------\n",
      "-----------------------------------------\n",
      "| rollout/                |             |\n",
      "|    ep_len_mean          | 36.1        |\n",
      "|    ep_rew_mean          | 36.1        |\n",
      "| time/                   |             |\n",
      "|    fps                  | 330         |\n",
      "|    iterations           | 3           |\n",
      "|    time_elapsed         | 18          |\n",
      "|    total_timesteps      | 6144        |\n",
      "| train/                  |             |\n",
      "|    approx_kl            | 0.008666357 |\n",
      "|    clip_fraction        | 0.0542      |\n",
      "|    clip_range           | 0.2         |\n",
      "|    entropy_loss         | -0.669      |\n",
      "|    explained_variance   | 0.0951      |\n",
      "|    learning_rate        | 0.0003      |\n",
      "|    loss                 | 14.8        |\n",
      "|    n_updates            | 20          |\n",
      "|    policy_gradient_loss | -0.0151     |\n",
      "|    value_loss           | 34.8        |\n",
      "-----------------------------------------\n",
      "-----------------------------------------\n",
      "| rollout/                |             |\n",
      "|    ep_len_mean          | 50.1        |\n",
      "|    ep_rew_mean          | 50.1        |\n",
      "| time/                   |             |\n",
      "|    fps                  | 317         |\n",
      "|    iterations           | 4           |\n",
      "|    time_elapsed         | 25          |\n",
      "|    total_timesteps      | 8192        |\n",
      "| train/                  |             |\n",
      "|    approx_kl            | 0.007360395 |\n",
      "|    clip_fraction        | 0.062       |\n",
      "|    clip_range           | 0.2         |\n",
      "|    entropy_loss         | -0.639      |\n",
      "|    explained_variance   | 0.161       |\n",
      "|    learning_rate        | 0.0003      |\n",
      "|    loss                 | 18.2        |\n",
      "|    n_updates            | 30          |\n",
      "|    policy_gradient_loss | -0.0152     |\n",
      "|    value_loss           | 54.9        |\n",
      "-----------------------------------------\n",
      "------------------------------------------\n",
      "| rollout/                |              |\n",
      "|    ep_len_mean          | 64.2         |\n",
      "|    ep_rew_mean          | 64.2         |\n",
      "| time/                   |              |\n",
      "|    fps                  | 308          |\n",
      "|    iterations           | 5            |\n",
      "|    time_elapsed         | 33           |\n",
      "|    total_timesteps      | 10240        |\n",
      "| train/                  |              |\n",
      "|    approx_kl            | 0.0065035326 |\n",
      "|    clip_fraction        | 0.0565       |\n",
      "|    clip_range           | 0.2          |\n",
      "|    entropy_loss         | -0.611       |\n",
      "|    explained_variance   | 0.252        |\n",
      "|    learning_rate        | 0.0003       |\n",
      "|    loss                 | 23.1         |\n",
      "|    n_updates            | 40           |\n",
      "|    policy_gradient_loss | -0.0138      |\n",
      "|    value_loss           | 67.3         |\n",
      "------------------------------------------\n",
      "Training completed and model saved.\n"
     ]
    }
   ],
   "source": [
    "from stable_baselines3 import PPO\n",
    "\n",
    "# Create and train the agent\n",
    "def train_agent():\n",
    "    env = gym.make('CartPole-v1')\n",
    "    model = PPO('MlpPolicy', env, verbose=1)\n",
    "    model.learn(total_timesteps=10000)\n",
    "    model.save(\"ppo_cartpole\")\n",
    "    env.close()\n",
    "    print(\"Training completed and model saved.\")\n",
    "\n",
    "train_agent()"
   ]
  },
  {
   "cell_type": "markdown",
   "id": "fb3d8581-8f43-4b7f-ba19-d3ae2e185563",
   "metadata": {},
   "source": [
    "#### Task 4: Visualize the Training Process\n",
    "\n",
    "1. Plot the rewards earned by the agent during training.\n",
    "2. Use the Matplotlib library for visualization."
   ]
  },
  {
   "cell_type": "code",
   "execution_count": 69,
   "id": "7e16cecf-0476-483b-beb8-beb3ee9b1d8b",
   "metadata": {},
   "outputs": [
    {
     "data": {
      "image/png": "[encoded data removed]",
      "text/plain": [
       "<Figure size 640x480 with 1 Axes>"
      ]
     },
     "metadata": {},
     "output_type": "display_data"
    }
   ],
   "source": [
    "import matplotlib.pyplot as plt\n",
    "\n",
    "# Simulated rewards for demonstration (replace with real training data if available)\n",
    "def plot_rewards():\n",
    "    rewards = [10, 20, 30, 50, 80, 100, 120, 150, 200]  # Example data\n",
    "    timesteps = [1000, 2000, 3000, 4000, 5000, 6000, 7000, 8000, 10000]\n",
    "\n",
    "    plt.plot(timesteps, rewards, marker='o')\n",
    "    plt.title(\"Agent's Rewards Over Time\")\n",
    "    plt.xlabel(\"Timesteps\")\n",
    "    plt.ylabel(\"Rewards\")\n",
    "    plt.grid()\n",
    "    plt.show()\n",
    "\n",
    "plot_rewards()"
   ]
  },
  {
   "cell_type": "markdown",
   "id": "654c093e-f724-4274-b76f-8ca0402d5963",
   "metadata": {},
   "source": [
    "#### Task 5: Experiment with Hyperparameters\n",
    "\n",
    "1. Modify the hyperparameters of the PPO algorithm (e.g., learning rate, number of steps per update).\n",
    "2. Observe how these changes affect the agent's performance."
   ]
  },
  {
   "cell_type": "code",
   "execution_count": 71,
   "id": "4a7430d8-dbc1-4cd2-96d5-9de8c5d521eb",
   "metadata": {},
   "outputs": [
    {
     "name": "stdout",
     "output_type": "stream",
     "text": [
      "Using cpu device\n",
      "---------------------------------\n",
      "| rollout/           |          |\n",
      "|    ep_len_mean     | 23.8     |\n",
      "|    ep_rew_mean     | 23.8     |\n",
      "| time/              |          |\n",
      "|    fps             | 801      |\n",
      "|    iterations      | 1        |\n",
      "|    time_elapsed    | 2        |\n",
      "|    total_timesteps | 2048     |\n",
      "---------------------------------\n",
      "-----------------------------------------\n",
      "| rollout/                |             |\n",
      "|    ep_len_mean          | 28.4        |\n",
      "|    ep_rew_mean          | 28.4        |\n",
      "| time/                   |             |\n",
      "|    fps                  | 406         |\n",
      "|    iterations           | 2           |\n",
      "|    time_elapsed         | 10          |\n",
      "|    total_timesteps      | 4096        |\n",
      "| train/                  |             |\n",
      "|    approx_kl            | 0.012211732 |\n",
      "|    clip_fraction        | 0.143       |\n",
      "|    clip_range           | 0.2         |\n",
      "|    entropy_loss         | -0.685      |\n",
      "|    explained_variance   | -0.000671   |\n",
      "|    learning_rate        | 0.0005      |\n",
      "|    loss                 | 5.51        |\n",
      "|    n_updates            | 10          |\n",
      "|    policy_gradient_loss | -0.0211     |\n",
      "|    value_loss           | 40.1        |\n",
      "-----------------------------------------\n",
      "-----------------------------------------\n",
      "| rollout/                |             |\n",
      "|    ep_len_mean          | 33.9        |\n",
      "|    ep_rew_mean          | 33.9        |\n",
      "| time/                   |             |\n",
      "|    fps                  | 351         |\n",
      "|    iterations           | 3           |\n",
      "|    time_elapsed         | 17          |\n",
      "|    total_timesteps      | 6144        |\n",
      "| train/                  |             |\n",
      "|    approx_kl            | 0.012407905 |\n",
      "|    clip_fraction        | 0.135       |\n",
      "|    clip_range           | 0.2         |\n",
      "|    entropy_loss         | -0.654      |\n",
      "|    explained_variance   | 0.269       |\n",
      "|    learning_rate        | 0.0005      |\n",
      "|    loss                 | 9.77        |\n",
      "|    n_updates            | 20          |\n",
      "|    policy_gradient_loss | -0.0233     |\n",
      "|    value_loss           | 30.1        |\n",
      "-----------------------------------------\n",
      "------------------------------------------\n",
      "| rollout/                |              |\n",
      "|    ep_len_mean          | 46           |\n",
      "|    ep_rew_mean          | 46           |\n",
      "| time/                   |              |\n",
      "|    fps                  | 330          |\n",
      "|    iterations           | 4            |\n",
      "|    time_elapsed         | 24           |\n",
      "|    total_timesteps      | 8192         |\n",
      "| train/                  |              |\n",
      "|    approx_kl            | 0.0109039955 |\n",
      "|    clip_fraction        | 0.145        |\n",
      "|    clip_range           | 0.2          |\n",
      "|    entropy_loss         | -0.618       |\n",
      "|    explained_variance   | 0.399        |\n",
      "|    learning_rate        | 0.0005       |\n",
      "|    loss                 | 17.5         |\n",
      "|    n_updates            | 30           |\n",
      "|    policy_gradient_loss | -0.0252      |\n",
      "|    value_loss           | 41.3         |\n",
      "------------------------------------------\n",
      "-----------------------------------------\n",
      "| rollout/                |             |\n",
      "|    ep_len_mean          | 61.3        |\n",
      "|    ep_rew_mean          | 61.3        |\n",
      "| time/                   |             |\n",
      "|    fps                  | 319         |\n",
      "|    iterations           | 5           |\n",
      "|    time_elapsed         | 32          |\n",
      "|    total_timesteps      | 10240       |\n",
      "| train/                  |             |\n",
      "|    approx_kl            | 0.011619251 |\n",
      "|    clip_fraction        | 0.137       |\n",
      "|    clip_range           | 0.2         |\n",
      "|    entropy_loss         | -0.592      |\n",
      "|    explained_variance   | 0.555       |\n",
      "|    learning_rate        | 0.0005      |\n",
      "|    loss                 | 15.6        |\n",
      "|    n_updates            | 40          |\n",
      "|    policy_gradient_loss | -0.0237     |\n",
      "|    value_loss           | 45.4        |\n",
      "-----------------------------------------\n",
      "Training completed with custom hyperparameters.\n"
     ]
    }
   ],
   "source": [
    "from stable_baselines3.common.env_util import make_vec_env\n",
    "\n",
    "def train_with_custom_hyperparameters():\n",
    "    env = make_vec_env('CartPole-v1', n_envs=1)\n",
    "\n",
    "    # Customize hyperparameters\n",
    "    model = PPO('MlpPolicy', env, verbose=1, learning_rate=0.0005, n_steps=2048)\n",
    "    model.learn(total_timesteps=10000)\n",
    "    model.save(\"ppo_cartpole_custom\")\n",
    "\n",
    "    print(\"Training completed with custom hyperparameters.\")\n",
    "\n",
    "train_with_custom_hyperparameters()"
   ]
  }
 ],
 "metadata": {
  "kernelspec": {
   "display_name": "Python 3 (ipykernel)",
   "language": "python",
   "name": "python3"
  },
  "language_info": {
   "codemirror_mode": {
    "name": "ipython",
    "version": 3
   },
   "file_extension": ".py",
   "mimetype": "text/x-python",
   "name": "python",
   "nbconvert_exporter": "python",
   "pygments_lexer": "ipython3",
   "version": "3.12.4"
  }
 },
 "nbformat": 4,
 "nbformat_minor": 5
}
